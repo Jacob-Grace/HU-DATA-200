{
 "cells": [
  {
   "cell_type": "markdown",
   "id": "2d892188",
   "metadata": {},
   "source": [
    "# Building Databases with SQL in Python\n",
    "We will begin with a csv file, recall this is a collection of data with each value separated by commas. The data can be many rows long and each row is a **record**. Each column in the data represents a **field** in a database. The underlying structure for a database is present in the csv or xlsx file. "
   ]
  },
  {
   "cell_type": "markdown",
   "id": "be8c4a8c",
   "metadata": {},
   "source": [
    "## Importing the Libraries"
   ]
  },
  {
   "cell_type": "code",
   "execution_count": 1,
   "id": "0d0f7c24",
   "metadata": {},
   "outputs": [
    {
     "name": "stdout",
     "output_type": "stream",
     "text": [
      "Note: you may need to restart the kernel to use updated packages.\n"
     ]
    },
    {
     "name": "stderr",
     "output_type": "stream",
     "text": [
      "ERROR: Could not find a version that satisfies the requirement sqlite-database (from versions: none)\n",
      "ERROR: No matching distribution found for sqlite-database\n"
     ]
    }
   ],
   "source": [
    "pip install sqlite-database"
   ]
  },
  {
   "cell_type": "code",
   "execution_count": 2,
   "id": "4f5c590f",
   "metadata": {},
   "outputs": [
    {
     "name": "stderr",
     "output_type": "stream",
     "text": [
      "C:\\Users\\kouak\\anaconda3\\lib\\site-packages\\pandas\\core\\computation\\expressions.py:21: UserWarning: Pandas requires version '2.8.4' or newer of 'numexpr' (version '2.8.1' currently installed).\n",
      "  from pandas.core.computation.check import NUMEXPR_INSTALLED\n",
      "C:\\Users\\kouak\\anaconda3\\lib\\site-packages\\pandas\\core\\arrays\\masked.py:60: UserWarning: Pandas requires version '1.3.6' or newer of 'bottleneck' (version '1.3.4' currently installed).\n",
      "  from pandas.core import (\n"
     ]
    }
   ],
   "source": [
    "# Import the libraries\n",
    "import sqlite3\n",
    "import csv\n",
    "import numpy as np\n",
    "import pandas as pd"
   ]
  },
  {
   "cell_type": "markdown",
   "id": "0daa7a2b",
   "metadata": {},
   "source": [
    "## Establishing a Connection"
   ]
  },
  {
   "cell_type": "code",
   "execution_count": 4,
   "id": "07d8bef4",
   "metadata": {},
   "outputs": [],
   "source": [
    "# Create a connection\n",
    "# Syntax: conn = sqlite3.connect('databaseName.sqlite')\n",
    "conn = sqlite3.connect('energyindicators.sqlite')\n",
    "\n",
    "# Create a cursor object to navigate\n",
    "cur = conn.cursor()"
   ]
  },
  {
   "cell_type": "markdown",
   "id": "0d2a9f31",
   "metadata": {},
   "source": [
    "## Creating Tables"
   ]
  },
  {
   "cell_type": "code",
   "execution_count": 5,
   "id": "a97ce17f",
   "metadata": {},
   "outputs": [
    {
     "data": {
      "text/plain": [
       "<sqlite3.Cursor at 0x2873c91fab0>"
      ]
     },
     "execution_count": 5,
     "metadata": {},
     "output_type": "execute_result"
    }
   ],
   "source": [
    "# Create a new table named students\n",
    "# Table fields will be name, graduation year, and school\n",
    "cur.execute('''\n",
    "CREATE TABLE student(\n",
    "    id INTEGER PRIMARY KEY AUTOINCREMENT,\n",
    "    name TEXT,\n",
    "    graduated INTEGER,\n",
    "    school TEXT\n",
    "   )\n",
    "   ''')"
   ]
  },
  {
   "cell_type": "markdown",
   "id": "42eadf58",
   "metadata": {},
   "source": [
    "## Inserting Data Into Tables"
   ]
  },
  {
   "cell_type": "code",
   "execution_count": 6,
   "id": "3ded449f",
   "metadata": {},
   "outputs": [],
   "source": [
    "# Let's insert a record into the table\n",
    "cur.execute('''\n",
    "INSERT INTO student (name, graduated, school) VALUES ('Shirley Chisholm', 1951, 'Columbia University')''')\n",
    "conn.commit()"
   ]
  },
  {
   "cell_type": "code",
   "execution_count": 7,
   "id": "816547f4",
   "metadata": {},
   "outputs": [],
   "source": [
    "# Let's import more than one data into the table\n",
    "# Start with a list for the data\n",
    "data = [('Kimberle Crenshaw', 1989, 'Columbia University'),\n",
    "        ('Barack Obama', 1983, 'Columbia University'),\n",
    "        ('Mae Jemison', 1981, 'Cornell University School of Medicine'),\n",
    "        ('Bessie Coleman','NULL' ,'Langston Industrial College'),\n",
    "        ('Langston Hughes', 1929, 'Lincoln University'),\n",
    "        ('Maya Angelou', 1944, 'Mission High School'),\n",
    "        ('Zora Neale Hurston', 1928, 'Columbia University'),\n",
    "        ('Claudette Colvin','NULL' , 'Booker T Washington High School'),\n",
    "        ('Martin Luther King Jr', 1948, 'Morehouse College'),\n",
    "        ('Audre Lorde', 1961, 'Columbia University'),\n",
    "        ('Ruby Bridges','NULL' , 'Kansas City Business School'),\n",
    "       ('LaKeta L Kemp', 2024, 'Howard University'),\n",
    "       ('Kouakou Innocent N\"DRI', 2024 , 'Howard University')]\n",
    "# Now let's add the data as new records.\n",
    "cur.executemany('''\n",
    "INSERT INTO student (name, graduated, school) VALUES (?, ?, ?)''',data)\n",
    "conn.commit()"
   ]
  },
  {
   "cell_type": "markdown",
   "id": "8b080f60",
   "metadata": {},
   "source": [
    "## Querying the new table"
   ]
  },
  {
   "cell_type": "markdown",
   "id": "74d2c411",
   "metadata": {},
   "source": [
    "### Query your table with SELECT "
   ]
  },
  {
   "cell_type": "code",
   "execution_count": 10,
   "id": "1a81dd00",
   "metadata": {},
   "outputs": [
    {
     "data": {
      "text/plain": [
       "[(1, 'Shirley Chisholm', 1951, 'Columbia University'),\n",
       " (2, 'Kimberle Crenshaw', 1989, 'Columbia University'),\n",
       " (3, 'Barack Obama', 1983, 'Columbia University'),\n",
       " (4, 'Mae Jemison', 1981, 'Cornell University School of Medicine'),\n",
       " (5, 'Bessie Coleman', 'NULL', 'Langston Industrial College'),\n",
       " (6, 'Langston Hughes', 1929, 'Lincoln University'),\n",
       " (7, 'Maya Angelou', 1944, 'Mission High School'),\n",
       " (8, 'Zora Neale Hurston', 1928, 'Columbia University'),\n",
       " (9, 'Claudette Colvin', 'NULL', 'Booker T Washington High School'),\n",
       " (10, 'Martin Luther King Jr', 1948, 'Morehouse College'),\n",
       " (11, 'Audre Lorde', 1961, 'Columbia University'),\n",
       " (12, 'Ruby Bridges', 'NULL', 'Kansas City Business School'),\n",
       " (13, 'LaKeta L Kemp', 2024, 'Howard University'),\n",
       " (14, 'Kouakou Innocent N\"DRI', 2024, 'Howard University')]"
      ]
     },
     "execution_count": 10,
     "metadata": {},
     "output_type": "execute_result"
    }
   ],
   "source": [
    "# Select the entire table student\n",
    "cur.execute('''\n",
    "SELECT *\n",
    "FROM student;''')\n",
    "\n",
    "cur.fetchall()"
   ]
  },
  {
   "cell_type": "markdown",
   "id": "e7292ef0",
   "metadata": {},
   "source": [
    "### Query your table with SELECT DISTINCT."
   ]
  },
  {
   "cell_type": "code",
   "execution_count": 20,
   "id": "c3246b28",
   "metadata": {},
   "outputs": [
    {
     "data": {
      "text/plain": [
       "[('Shirley Chisholm', 1951, 'Columbia University'),\n",
       " ('Kimberle Crenshaw', 1989, 'Columbia University'),\n",
       " ('Barack Obama', 1983, 'Columbia University'),\n",
       " ('Mae Jemison', 1981, 'Cornell University School of Medicine'),\n",
       " ('Bessie Coleman', 'NULL', 'Langston Industrial College'),\n",
       " ('Langston Hughes', 1929, 'Lincoln University'),\n",
       " ('Maya Angelou', 1944, 'Mission High School'),\n",
       " ('Zora Neale Hurston', 1928, 'Columbia University'),\n",
       " ('Claudette Colvin', 'NULL', 'Booker T Washington High School'),\n",
       " ('Martin Luther King Jr', 1948, 'Morehouse College'),\n",
       " ('Audre Lorde', 1961, 'Columbia University'),\n",
       " ('Ruby Bridges', 'NULL', 'Kansas City Business School'),\n",
       " ('LaKeta L Kemp', 2024, 'Howard University'),\n",
       " ('Kouakou Innocent N\"DRI', 2024, 'Howard University')]"
      ]
     },
     "execution_count": 20,
     "metadata": {},
     "output_type": "execute_result"
    }
   ],
   "source": [
    "# Using a SELECT Statement\n",
    "cur.execute('''\n",
    "SELECT DISTINCT name, graduated, school\n",
    "FROM student;\n",
    "    ''')\n",
    "cur.fetchall()"
   ]
  },
  {
   "cell_type": "code",
   "execution_count": 12,
   "id": "e8bfb7c0",
   "metadata": {},
   "outputs": [
    {
     "data": {
      "text/plain": [
       "[(1, 'Shirley Chisholm', 1951, 'Columbia University'),\n",
       " (2, 'Kimberle Crenshaw', 1989, 'Columbia University'),\n",
       " (3, 'Barack Obama', 1983, 'Columbia University'),\n",
       " (4, 'Mae Jemison', 1981, 'Cornell University School of Medicine'),\n",
       " (5, 'Bessie Coleman', 'NULL', 'Langston Industrial College'),\n",
       " (6, 'Langston Hughes', 1929, 'Lincoln University'),\n",
       " (7, 'Maya Angelou', 1944, 'Mission High School'),\n",
       " (8, 'Zora Neale Hurston', 1928, 'Columbia University'),\n",
       " (9, 'Claudette Colvin', 'NULL', 'Booker T Washington High School'),\n",
       " (10, 'Martin Luther King Jr', 1948, 'Morehouse College'),\n",
       " (11, 'Audre Lorde', 1961, 'Columbia University')]"
      ]
     },
     "execution_count": 12,
     "metadata": {},
     "output_type": "execute_result"
    }
   ],
   "source": [
    "# Let's use fetchall to see the entire list\n",
    "cur.execute('''\n",
    "SELECT *\n",
    "FROM student\n",
    "LIMIT 11;''')\n",
    "\n",
    "cur.fetchall()"
   ]
  },
  {
   "cell_type": "markdown",
   "id": "fae87576",
   "metadata": {},
   "source": [
    "### Use WHERE Statements and BETWEEN for queries with conditional logic."
   ]
  },
  {
   "cell_type": "code",
   "execution_count": 21,
   "id": "0be7537f",
   "metadata": {},
   "outputs": [
    {
     "data": {
      "text/plain": [
       "[(2, 'Kimberle Crenshaw', 1989, 'Columbia University'),\n",
       " (3, 'Barack Obama', 1983, 'Columbia University'),\n",
       " (5, 'Bessie Coleman', 'NULL', 'Langston Industrial College'),\n",
       " (9, 'Claudette Colvin', 'NULL', 'Booker T Washington High School'),\n",
       " (12, 'Ruby Bridges', 'NULL', 'Kansas City Business School'),\n",
       " (13, 'LaKeta L Kemp', 2024, 'Howard University'),\n",
       " (14, 'Kouakou Innocent N\"DRI', 2024, 'Howard University')]"
      ]
     },
     "execution_count": 21,
     "metadata": {},
     "output_type": "execute_result"
    }
   ],
   "source": [
    "# select graduates after 1981\n",
    "cur.execute('''\n",
    "SELECT *\n",
    "    FROM student\n",
    "    WHERE graduated > 1981;\n",
    "''')\n",
    "\n",
    "cur.fetchall()"
   ]
  },
  {
   "cell_type": "code",
   "execution_count": 22,
   "id": "c80da65d",
   "metadata": {},
   "outputs": [
    {
     "data": {
      "text/plain": [
       "[(5, 'Bessie Coleman', 'NULL', 'Langston Industrial College'),\n",
       " (9, 'Claudette Colvin', 'NULL', 'Booker T Washington High School'),\n",
       " (12, 'Ruby Bridges', 'NULL', 'Kansas City Business School')]"
      ]
     },
     "execution_count": 22,
     "metadata": {},
     "output_type": "execute_result"
    }
   ],
   "source": [
    "# select STUDENT  WITH YEAR NULL VALUES\n",
    "cur.execute('''\n",
    "SELECT *\n",
    "    FROM student\n",
    "    WHERE graduated = \"NULL\";\n",
    "''')\n",
    "\n",
    "cur.fetchall()"
   ]
  },
  {
   "cell_type": "code",
   "execution_count": 25,
   "id": "174de334",
   "metadata": {},
   "outputs": [
    {
     "data": {
      "text/plain": [
       "[(2, 'Kimberle Crenshaw', 1989, 'Columbia University'),\n",
       " (3, 'Barack Obama', 1983, 'Columbia University'),\n",
       " (4, 'Mae Jemison', 1981, 'Cornell University School of Medicine')]"
      ]
     },
     "execution_count": 25,
     "metadata": {},
     "output_type": "execute_result"
    }
   ],
   "source": [
    "# select student between 1980 and 2010\n",
    "cur.execute('''\n",
    "SELECT *\n",
    "    FROM student\n",
    "    WHERE graduated BETWEEN 1980 AND 2014;\n",
    "''')\n",
    "\n",
    "cur.fetchall()"
   ]
  },
  {
   "cell_type": "markdown",
   "id": "577d0d4d",
   "metadata": {},
   "source": [
    "### Use DELETE to remove records from the table."
   ]
  },
  {
   "cell_type": "code",
   "execution_count": 26,
   "id": "92f44d19",
   "metadata": {},
   "outputs": [
    {
     "data": {
      "text/plain": [
       "[(1, 'Shirley Chisholm', 1951, 'Columbia University'),\n",
       " (2, 'Kimberle Crenshaw', 1989, 'Columbia University'),\n",
       " (3, 'Barack Obama', 1983, 'Columbia University'),\n",
       " (4, 'Mae Jemison', 1981, 'Cornell University School of Medicine'),\n",
       " (5, 'Bessie Coleman', 'NULL', 'Langston Industrial College'),\n",
       " (6, 'Langston Hughes', 1929, 'Lincoln University'),\n",
       " (7, 'Maya Angelou', 1944, 'Mission High School'),\n",
       " (8, 'Zora Neale Hurston', 1928, 'Columbia University'),\n",
       " (9, 'Claudette Colvin', 'NULL', 'Booker T Washington High School'),\n",
       " (10, 'Martin Luther King Jr', 1948, 'Morehouse College')]"
      ]
     },
     "execution_count": 26,
     "metadata": {},
     "output_type": "execute_result"
    }
   ],
   "source": [
    "# Deleting the actual values from the ID Number\n",
    "cur.execute('''\n",
    "DELETE \n",
    "FROM student WHERE id > 10;\n",
    "''')\n",
    "\n",
    "cur.execute('''\n",
    "SELECT *\n",
    "FROM student;\n",
    "''')\n",
    "\n",
    "cur.fetchall()"
   ]
  },
  {
   "cell_type": "code",
   "execution_count": null,
   "id": "d7696154",
   "metadata": {},
   "outputs": [],
   "source": []
  }
 ],
 "metadata": {
  "kernelspec": {
   "display_name": "Python 3 (ipykernel)",
   "language": "python",
   "name": "python3"
  },
  "language_info": {
   "codemirror_mode": {
    "name": "ipython",
    "version": 3
   },
   "file_extension": ".py",
   "mimetype": "text/x-python",
   "name": "python",
   "nbconvert_exporter": "python",
   "pygments_lexer": "ipython3",
   "version": "3.9.12"
  }
 },
 "nbformat": 4,
 "nbformat_minor": 5
}
