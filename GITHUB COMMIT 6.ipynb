{
 "cells": [
  {
   "cell_type": "markdown",
   "id": "74652d6f",
   "metadata": {},
   "source": [
    "# Building Databases with SQL in Python\n",
    "We will begin with a csv file, recall this is a collection of data with each value separated by commas. The data can be many rows long and each row is a **record**. Each column in the data represents a **field** in a database. The underlying structure for a database is present in the csv or xlsx file. "
   ]
  },
  {
   "cell_type": "markdown",
   "id": "b0981ab4",
   "metadata": {},
   "source": [
    "## Importing the Libraries"
   ]
  },
  {
   "cell_type": "code",
   "execution_count": 1,
   "id": "22bdbc10",
   "metadata": {},
   "outputs": [
    {
     "name": "stdout",
     "output_type": "stream",
     "text": [
      "Note: you may need to restart the kernel to use updated packages.\n"
     ]
    },
    {
     "name": "stderr",
     "output_type": "stream",
     "text": [
      "ERROR: Could not find a version that satisfies the requirement sqlite-database (from versions: none)\n",
      "ERROR: No matching distribution found for sqlite-database\n"
     ]
    }
   ],
   "source": [
    "pip install sqlite-database"
   ]
  },
  {
   "cell_type": "code",
   "execution_count": 2,
   "id": "501f9f44",
   "metadata": {},
   "outputs": [
    {
     "name": "stderr",
     "output_type": "stream",
     "text": [
      "C:\\Users\\kouak\\anaconda3\\lib\\site-packages\\pandas\\core\\computation\\expressions.py:21: UserWarning: Pandas requires version '2.8.4' or newer of 'numexpr' (version '2.8.1' currently installed).\n",
      "  from pandas.core.computation.check import NUMEXPR_INSTALLED\n",
      "C:\\Users\\kouak\\anaconda3\\lib\\site-packages\\pandas\\core\\arrays\\masked.py:60: UserWarning: Pandas requires version '1.3.6' or newer of 'bottleneck' (version '1.3.4' currently installed).\n",
      "  from pandas.core import (\n"
     ]
    }
   ],
   "source": [
    "# Import the libraries\n",
    "import sqlite3\n",
    "import csv\n",
    "import numpy as np\n",
    "import pandas as pd"
   ]
  },
  {
   "cell_type": "markdown",
   "id": "a3e1746a",
   "metadata": {},
   "source": [
    "## Establishing a Connection"
   ]
  },
  {
   "cell_type": "code",
   "execution_count": 4,
   "id": "e5f6688b",
   "metadata": {},
   "outputs": [],
   "source": [
    "# Create a connection\n",
    "# Syntax: conn = sqlite3.connect('databaseName.sqlite')\n",
    "conn = sqlite3.connect('energyindicators.sqlite')\n",
    "\n",
    "# Create a cursor object to navigate\n",
    "cur = conn.cursor()"
   ]
  },
  {
   "cell_type": "markdown",
   "id": "2d54e0ec",
   "metadata": {},
   "source": [
    "## Creating Tables"
   ]
  },
  {
   "cell_type": "code",
   "execution_count": null,
   "id": "a20e9734",
   "metadata": {},
   "outputs": [],
   "source": [
    "# Create a cursor to interact with the database.\n",
    "cur.execute('''DROP TABLE student''')"
   ]
  },
  {
   "cell_type": "code",
   "execution_count": 5,
   "id": "7e8ad9ab",
   "metadata": {},
   "outputs": [
    {
     "data": {
      "text/plain": [
       "<sqlite3.Cursor at 0x2873c91fab0>"
      ]
     },
     "execution_count": 5,
     "metadata": {},
     "output_type": "execute_result"
    }
   ],
   "source": [
    "# Create a new table named students\n",
    "# Table fields will be name, graduation year, and school\n",
    "cur.execute('''\n",
    "CREATE TABLE student(\n",
    "    id INTEGER PRIMARY KEY AUTOINCREMENT,\n",
    "    name TEXT,\n",
    "    graduated INTEGER,\n",
    "    school TEXT\n",
    "   )\n",
    "   ''')"
   ]
  },
  {
   "cell_type": "markdown",
   "id": "440408ad",
   "metadata": {},
   "source": [
    "## Inserting Data Into Tables"
   ]
  },
  {
   "cell_type": "code",
   "execution_count": 6,
   "id": "cc3e7b19",
   "metadata": {},
   "outputs": [],
   "source": [
    "# Let's insert a record into the table\n",
    "cur.execute('''\n",
    "INSERT INTO student (name, graduated, school) VALUES ('Shirley Chisholm', 1951, 'Columbia University')''')\n",
    "conn.commit()"
   ]
  },
  {
   "cell_type": "code",
   "execution_count": 7,
   "id": "2fa6444d",
   "metadata": {},
   "outputs": [],
   "source": [
    "# Let's import more than one data into the table\n",
    "# Start with a list for the data\n",
    "data = [('Kimberle Crenshaw', 1989, 'Columbia University'),\n",
    "        ('Barack Obama', 1983, 'Columbia University'),\n",
    "        ('Mae Jemison', 1981, 'Cornell University School of Medicine'),\n",
    "        ('Bessie Coleman','NULL' ,'Langston Industrial College'),\n",
    "        ('Langston Hughes', 1929, 'Lincoln University'),\n",
    "        ('Maya Angelou', 1944, 'Mission High School'),\n",
    "        ('Zora Neale Hurston', 1928, 'Columbia University'),\n",
    "        ('Claudette Colvin','NULL' , 'Booker T Washington High School'),\n",
    "        ('Martin Luther King Jr', 1948, 'Morehouse College'),\n",
    "        ('Audre Lorde', 1961, 'Columbia University'),\n",
    "        ('Ruby Bridges','NULL' , 'Kansas City Business School'),\n",
    "       ('LaKeta L Kemp', 2024, 'Howard University'),\n",
    "       ('Kouakou Innocent N\"DRI', 2024 , 'Howard University')]\n",
    "# Now let's add the data as new records.\n",
    "cur.executemany('''\n",
    "INSERT INTO student (name, graduated, school) VALUES (?, ?, ?)''',data)\n",
    "conn.commit()"
   ]
  },
  {
   "cell_type": "code",
   "execution_count": null,
   "id": "b51b02a2",
   "metadata": {},
   "outputs": [],
   "source": []
  }
 ],
 "metadata": {
  "kernelspec": {
   "display_name": "Python 3 (ipykernel)",
   "language": "python",
   "name": "python3"
  },
  "language_info": {
   "codemirror_mode": {
    "name": "ipython",
    "version": 3
   },
   "file_extension": ".py",
   "mimetype": "text/x-python",
   "name": "python",
   "nbconvert_exporter": "python",
   "pygments_lexer": "ipython3",
   "version": "3.9.12"
  }
 },
 "nbformat": 4,
 "nbformat_minor": 5
}
